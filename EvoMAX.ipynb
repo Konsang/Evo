{
 "cells": [
  {
   "cell_type": "code",
   "execution_count": 123,
   "metadata": {
    "collapsed": true
   },
   "outputs": [],
   "source": [
    "import numpy as np\n",
    "import matplotlib.pyplot as plt"
   ]
  },
  {
   "cell_type": "code",
   "execution_count": 124,
   "metadata": {
    "collapsed": true
   },
   "outputs": [],
   "source": [
    "DNA_SIZE = 1 \n",
    "DNA_BOUND = [0, 5]\n",
    "N_GENERATIONS = 200\n",
    "MUT_STRENGTH = 5.0"
   ]
  },
  {
   "cell_type": "code",
   "execution_count": 125,
   "metadata": {
    "collapsed": true
   },
   "outputs": [],
   "source": [
    "def F(x): return np.cos(7*x)*(x**2) + np.sin(8*x)*(x**3) "
   ]
  },
  {
   "cell_type": "code",
   "execution_count": 126,
   "metadata": {
    "collapsed": true
   },
   "outputs": [],
   "source": [
    "def get_fitness(pred): return pred.flatten()"
   ]
  },
  {
   "cell_type": "code",
   "execution_count": 127,
   "metadata": {},
   "outputs": [],
   "source": [
    "def make_kid(parent):\n",
    "    k = parent + MUT_STRENGTH * np.random.randn(DNA_SIZE)\n",
    "    k = np.clip(k, *DNA_BOUND)\n",
    "    return k"
   ]
  },
  {
   "cell_type": "code",
   "execution_count": 128,
   "metadata": {
    "collapsed": true
   },
   "outputs": [],
   "source": [
    "def kill_bad(parent, kid):\n",
    "    global MUT_STRENGTH\n",
    "    fp = get_fitness(F(parent))[0]\n",
    "    fk = get_fitness(F(kid))[0]\n",
    "    p_target = 1/5\n",
    "    if fp < fk:     \n",
    "        parent = kid\n",
    "        ps = 1.     \n",
    "    else:\n",
    "        ps = 0.\n",
    "    MUT_STRENGTH *= np.exp(1/np.sqrt(DNA_SIZE+1) * (ps - p_target)/(1 - p_target))\n",
    "    return parent"
   ]
  },
  {
   "cell_type": "code",
   "execution_count": 129,
   "metadata": {
    "collapsed": true
   },
   "outputs": [],
   "source": [
    "parent = 5 * np.random.rand(DNA_SIZE)"
   ]
  },
  {
   "cell_type": "code",
   "execution_count": 130,
   "metadata": {
    "collapsed": true
   },
   "outputs": [],
   "source": [
    "plt.ion()"
   ]
  },
  {
   "cell_type": "code",
   "execution_count": 131,
   "metadata": {
    "collapsed": true
   },
   "outputs": [],
   "source": [
    "x = np.linspace(*DNA_BOUND, 200)"
   ]
  },
  {
   "cell_type": "code",
   "execution_count": 132,
   "metadata": {},
   "outputs": [
    {
     "data": {
      "image/png": "[encoded data removed]",
      "text/plain": [
       "<matplotlib.figure.Figure at 0x7f2b5f9c9208>"
      ]
     },
     "metadata": {},
     "output_type": "display_data"
    }
   ],
   "source": [
    "for _ in range(N_GENERATIONS):\n",
    "    kid = make_kid(parent)\n",
    "    py, ky = F(parent), F(kid)       \n",
    "    parent = kill_bad(parent, kid)\n",
    "\n",
    "    plt.cla()\n",
    "    plt.scatter(parent, py, s=200, lw=0, c='red', alpha=0.5,)\n",
    "    plt.scatter(kid, ky, s=200, lw=0, c='blue', alpha=0.5)\n",
    "    plt.text(0, -7, 'Mutation strength=%.2f' % MUT_STRENGTH)\n",
    "    plt.plot(x, F(x)); plt.pause(0.05)\n",
    "\n",
    "plt.ioff(); plt.show()"
   ]
  },
  {
   "cell_type": "code",
   "execution_count": null,
   "metadata": {
    "collapsed": true
   },
   "outputs": [],
   "source": []
  },
  {
   "cell_type": "code",
   "execution_count": null,
   "metadata": {
    "collapsed": true
   },
   "outputs": [],
   "source": []
  }
 ],
 "metadata": {
  "kernelspec": {
   "display_name": "Python 3",
   "language": "python",
   "name": "python3"
  },
  "language_info": {
   "codemirror_mode": {
    "name": "ipython",
    "version": 3
   },
   "file_extension": ".py",
   "mimetype": "text/x-python",
   "name": "python",
   "nbconvert_exporter": "python",
   "pygments_lexer": "ipython3",
   "version": "3.5.2"
  }
 },
 "nbformat": 4,
 "nbformat_minor": 2
}
